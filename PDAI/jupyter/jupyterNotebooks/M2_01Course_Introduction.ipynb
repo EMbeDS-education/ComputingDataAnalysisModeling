{
 "cells": [
  {
   "cell_type": "markdown",
   "metadata": {
    "tags": []
   },
   "source": [
    "<center><font size=\"+4\">Programming & Data Analytics & AI 2 2023/2024</font></center>\n",
    "<center><font size=\"+2\">Sant'Anna School of Advanced Studies, Pisa, Italy</font></center>\n",
    "<center><img src=\"https://github.com/EMbeDS-education/ComputingDataAnalysisModeling20232024/raw/main/PDAI/jupyter/jupyterNotebooks/images/SSSA_LEMbeDS.png\" width=\"700\" alt=\"L'EMbeDS\"></center>\n",
    "\n",
    "<center><font size=\"+2\">Course responsible</font></center>\n",
    "<center><font size=\"+2\">Andrea Vandin a.vandin@santannapisa.it</font></center>\n",
    "\n",
    "---"
   ]
  },
  {
   "cell_type": "markdown",
   "metadata": {},
   "source": [
    "<center><font size=\"+4\">Part 1</font></center>\n",
    "<center><font size=\"+4\">Lecture 1: Course introduction</font></center>"
   ]
  },
  {
   "cell_type": "markdown",
   "metadata": {},
   "source": [
    "---"
   ]
  },
  {
   "cell_type": "markdown",
   "metadata": {
    "jp-MarkdownHeadingCollapsed": true,
    "tags": []
   },
   "source": [
    "# Course website & material\n",
    "All material used in this course, including jupyter notebooks, datasets, schedule are available at the usual wiki\n",
    "- https://github.com/EMbeDS-education/ComputingDataAnalysisModeling20232024/wiki/PDAI\n",
    "\n",
    "__This is the second module of PDAI__\n",
    "- In __Module 1__ we learned about producing __software programs of good quality__, and how to use python and jupyter-lab\n",
    "  - **If you are not familiar with any of these topics: go through the material of Module 1**, available in the above link\n",
    "- In __Module 2__ we learn about producingm __data analysis projects of good quality__, and how to use some popular additional python libraries"
   ]
  },
  {
   "cell_type": "markdown",
   "metadata": {
    "tags": []
   },
   "source": [
    "# Course structure\n",
    "\n",
    "**Part 1: _We first build our toolset_**\n",
    "- Topics\n",
    "  - Advanced Libraries for data manipulation/visualization \n",
    "    - Matplotlib\n",
    "    - NumPy\n",
    "    - Pandas\n",
    "  - Exploratory Data Analysis (EDA) on the Titanic Dataset \n",
    "  - Work on assignments, preliminary project work if time permits\n",
    "- When\n",
    "  - Classes 1-3\n",
    "\n",
    "\n",
    "**Part 2, _We apply our toolset on a concrete Machine Learning case study_** \n",
    "- Topics    \n",
    "  - [Breast Cancer Wisconsin (Diagnostic) Data Set](https://archive.ics.uci.edu/ml/datasets/Breast+Cancer+Wisconsin+(Diagnostic)) \n",
    "    - Exploratory Data Analysis (data pre-processing, outliers detection, ...)\n",
    "    - Dimensionality Reduction (PCA)\n",
    "    - Clustering (K-means)\n",
    "    - Classification (of Benign and Malignant Breast Cancer)\n",
    "- When\n",
    "  - Classes 4-6\n",
    "\n",
    "\n",
    "**Part 3, _Research-oriented data-analysis topics_** \n",
    "- Topics\n",
    "  - __To be decided__. _An option: [Knime](https://www.knime.com/): a graphical language for complex data analysis tasks_\n",
    "    - When: Class 7\n",
    "  - Process-oriented Data Science: [Process mining](https://pm4py.fit.fraunhofer.de/getting-started-page#understanding)\n",
    "    - When: Class 8    "
   ]
  },
  {
   "cell_type": "code",
   "execution_count": 9,
   "metadata": {},
   "outputs": [],
   "source": [
    "from IPython.display import Image, display\n",
    "url_github_repo=\"https://github.com/EMbeDS-education/ComputingDataAnalysisModeling20232024/raw/main/PDAI/\"\n",
    "#img=Image(url_github_repo+'slides/figures/calendarPDAI2.png',width=800)\n",
    "#display(img)"
   ]
  },
  {
   "cell_type": "markdown",
   "metadata": {
    "jp-MarkdownHeadingCollapsed": true,
    "tags": []
   },
   "source": [
    "# Learning objectives\n",
    "A student who has met the objectives of the course will be able to: \n",
    "- **describe** the main steps and problematics involved in data anlysis and machine learning problems\n",
    "- **describe** and **use** advanced Python libraries for data analytics and machine learning\n",
    "- **apply** such libraries to medium-complexity problems\n",
    "- **describe** modern graphical programming languages for data analysis\n",
    "- **describe** the pipeline of steps/problems common in data analysis tasks\n",
    "- **communicate** analysis results in a clear and precise manner using popular web-based editors"
   ]
  },
  {
   "cell_type": "markdown",
   "metadata": {},
   "source": [
    "# How are we going to evaluate you?\n",
    "\n",
    "## Oral examination based on a report on assignments & project\n",
    "* _Assignments_\n",
    "    * Similarly to module 1, we provided 2 sets of simple coding assignments\n",
    "    * These are to test the topics somehow complementarily to the project work\n",
    "    * You shall hand in your assignments by the exam date. \n",
    "* _Project report_\n",
    "    * You will be given a simple _classic_ dataset\n",
    "      * Would have you survived the Titanic shipwreck?\n",
    "      * Or __you can propose one of interest if any__\n",
    "        - Please contact us\n",
    "        - You can do this only if we explicitly agree\n",
    "    * You will be asked to do a data-analysis project \n",
    "\n",
    "* Groups\n",
    "    * You can form __groups of 3 or 2 students__\n",
    "       * Both for the assignments and the project\n",
    "    * We will do a group oral examination based on your assignments and project"
   ]
  },
  {
   "cell_type": "markdown",
   "metadata": {},
   "source": [
    "> _Needless to say, we will keep making __kahoot__ quizzes!_"
   ]
  },
  {
   "cell_type": "markdown",
   "metadata": {},
   "source": [
    "## The project\n",
    "- Consider the **Titanic** dataset available in the __datasets__ page of our wiki\n",
    "    - You will also find a **description** there\n",
    "  - Or contact us if you want to propose a dataset of interest.\n",
    "- It contains information on 1309 passengers\n",
    "  - 14 properties/attributes\n",
    "  - 1 target variable on the survival of the passenger\n",
    "- __Your task is to analyze this dataset in the lines of what shown in the course__\n",
    "  - The final goal is to **obtain a classifier able to predict the survival probability of a hypotethical passenger**\n",
    "    - Or other classification tasks to be agreed on if you use a dataset of interest\n",
    "  - BEWARE: \n",
    "    - Try first to understand the data. Read the provided description. \n",
    "    - Not all datasets are the same\n",
    "      - Do not just blindly apply all tasks seen in class, with the same parameters. \n",
    "      - Try to perform reasoned choices.\n",
    "      -  You are free to choose part of the techniques/tools seen during the course\n",
    "         - **Motivate your choices**\n",
    "    - You should prepare a [jupyterLab notebook](https://jupyterlab.readthedocs.io/en/stable/), or colab notebook (which is the same thing) containing your analysis \n",
    "      - **Properly commenting/motivating each step with suitable comments**\n",
    "      - Similarly to what we do in the jupyterLab notebooks we use in our classes"
   ]
  },
  {
   "cell_type": "markdown",
   "metadata": {},
   "source": [
    "## Form your group!"
   ]
  },
  {
   "cell_type": "markdown",
   "metadata": {},
   "source": [
    ">Please __form a group and add it here__\n",
    "> - __DO IT BY NEXT CLASS__"
   ]
  },
  {
   "cell_type": "code",
   "execution_count": 6,
   "metadata": {},
   "outputs": [
    {
     "data": {
      "text/plain": [
       "'https://docs.google.com/document/d/1Fk9RnSs2BXdt0GtiLDRnni1GNQGV1MT_Ym7iLmzbVyw/edit?usp=sharing'"
      ]
     },
     "execution_count": 6,
     "metadata": {},
     "output_type": "execute_result"
    }
   ],
   "source": [
    "googleDoc=\"https://docs.google.com/document/d/1Fk9RnSs2BXdt0GtiLDRnni1GNQGV1MT_Ym7iLmzbVyw/edit?usp=sharing\"\n",
    "googleDoc"
   ]
  },
  {
   "cell_type": "code",
   "execution_count": 7,
   "metadata": {},
   "outputs": [
    {
     "data": {
      "text/html": [
       "\n",
       "        <iframe\n",
       "            width=\"1300\"\n",
       "            height=\"700\"\n",
       "            src=\"https://docs.google.com/document/d/1Fk9RnSs2BXdt0GtiLDRnni1GNQGV1MT_Ym7iLmzbVyw/edit?usp=sharing\"\n",
       "            frameborder=\"0\"\n",
       "            allowfullscreen\n",
       "            \n",
       "        ></iframe>\n",
       "        "
      ],
      "text/plain": [
       "<IPython.lib.display.IFrame at 0x7fa4b8551730>"
      ]
     },
     "execution_count": 7,
     "metadata": {},
     "output_type": "execute_result"
    }
   ],
   "source": [
    "from IPython.display import IFrame\n",
    "IFrame(googleDoc, 1300, 700)"
   ]
  },
  {
   "cell_type": "markdown",
   "metadata": {},
   "source": [
    "---"
   ]
  },
  {
   "cell_type": "markdown",
   "metadata": {
    "tags": []
   },
   "source": [
    "# Kahoot"
   ]
  },
  {
   "cell_type": "markdown",
   "metadata": {},
   "source": [
    "<!-- ![Last kahoot meme](images/lastKahootMeme.jpg) -->\n",
    "\n",
    "But now, the most entertaining part this course :D\n",
    "- Let's Kahoot!"
   ]
  },
  {
   "cell_type": "markdown",
   "metadata": {},
   "source": [
    "How?\n",
    "* Using your phone or a different display go to [https://kahoot.it/](https://kahoot.it/)\n",
    "* Type the given PIN"
   ]
  },
  {
   "cell_type": "code",
   "execution_count": 8,
   "metadata": {},
   "outputs": [
    {
     "data": {
      "text/html": [
       "\n",
       "        <iframe\n",
       "            width=\"500\"\n",
       "            height=\"400\"\n",
       "            src=\"https://kahoot.it/\"\n",
       "            frameborder=\"0\"\n",
       "            allowfullscreen\n",
       "            \n",
       "        ></iframe>\n",
       "        "
      ],
      "text/plain": [
       "<IPython.lib.display.IFrame at 0x7fa4b85518e0>"
      ]
     },
     "execution_count": 8,
     "metadata": {},
     "output_type": "execute_result"
    }
   ],
   "source": [
    "from IPython.display import IFrame\n",
    "IFrame(\"https://kahoot.it/\", 500, 400)"
   ]
  }
 ],
 "metadata": {
  "kernelspec": {
   "display_name": "env_pdai_2024",
   "language": "python",
   "name": "env_pdai_2024"
  },
  "language_info": {
   "codemirror_mode": {
    "name": "ipython",
    "version": 3
   },
   "file_extension": ".py",
   "mimetype": "text/x-python",
   "name": "python",
   "nbconvert_exporter": "python",
   "pygments_lexer": "ipython3",
   "version": "3.9.10"
  },
  "toc-autonumbering": true
 },
 "nbformat": 4,
 "nbformat_minor": 4
}
